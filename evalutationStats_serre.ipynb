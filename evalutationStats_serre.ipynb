{
 "cells": [
  {
   "cell_type": "markdown",
   "metadata": {},
   "source": [
    "Bibli a importer"
   ]
  },
  {
   "cell_type": "code",
   "execution_count": 44,
   "metadata": {},
   "outputs": [],
   "source": [
    "import numpy as np \n",
    "import pandas as pd\n",
    "import seaborn as sns\n",
    "import pylab\n",
    "import matplotlib.pyplot as plt\n",
    "from scipy import stats\n",
    "from sklearn import datasets \n",
    "from sklearn import linear_model\n",
    "from sklearn.linear_model import LinearRegression\n",
    "\n",
    "from sklearn.preprocessing import StandardScaler\n",
    "\n",
    "from sklearn.decomposition import PCA"
   ]
  },
  {
   "cell_type": "markdown",
   "metadata": {},
   "source": [
    "Import dataframe and analyse "
   ]
  },
  {
   "cell_type": "code",
   "execution_count": 20,
   "metadata": {},
   "outputs": [
    {
     "data": {
      "text/html": [
       "<div>\n",
       "<style scoped>\n",
       "    .dataframe tbody tr th:only-of-type {\n",
       "        vertical-align: middle;\n",
       "    }\n",
       "\n",
       "    .dataframe tbody tr th {\n",
       "        vertical-align: top;\n",
       "    }\n",
       "\n",
       "    .dataframe thead th {\n",
       "        text-align: right;\n",
       "    }\n",
       "</style>\n",
       "<table border=\"1\" class=\"dataframe\">\n",
       "  <thead>\n",
       "    <tr style=\"text-align: right;\">\n",
       "      <th></th>\n",
       "      <th>air-blast</th>\n",
       "      <th>stabilization</th>\n",
       "      <th>landing</th>\n",
       "    </tr>\n",
       "  </thead>\n",
       "  <tbody>\n",
       "    <tr>\n",
       "      <th>0</th>\n",
       "      <td>-4.3610</td>\n",
       "      <td>5.871623</td>\n",
       "      <td>-11.7190</td>\n",
       "    </tr>\n",
       "    <tr>\n",
       "      <th>1</th>\n",
       "      <td>1.3172</td>\n",
       "      <td>0.072109</td>\n",
       "      <td>-16.1800</td>\n",
       "    </tr>\n",
       "    <tr>\n",
       "      <th>2</th>\n",
       "      <td>5.6777</td>\n",
       "      <td>0.514440</td>\n",
       "      <td>-15.0530</td>\n",
       "    </tr>\n",
       "    <tr>\n",
       "      <th>3</th>\n",
       "      <td>7.8207</td>\n",
       "      <td>-11.094953</td>\n",
       "      <td>-9.6556</td>\n",
       "    </tr>\n",
       "    <tr>\n",
       "      <th>4</th>\n",
       "      <td>8.7700</td>\n",
       "      <td>-6.434641</td>\n",
       "      <td>-2.8009</td>\n",
       "    </tr>\n",
       "    <tr>\n",
       "      <th>...</th>\n",
       "      <td>...</td>\n",
       "      <td>...</td>\n",
       "      <td>...</td>\n",
       "    </tr>\n",
       "    <tr>\n",
       "      <th>9995</th>\n",
       "      <td>3.0466</td>\n",
       "      <td>8.910209</td>\n",
       "      <td>4.1882</td>\n",
       "    </tr>\n",
       "    <tr>\n",
       "      <th>9996</th>\n",
       "      <td>10.5050</td>\n",
       "      <td>4.565551</td>\n",
       "      <td>8.6056</td>\n",
       "    </tr>\n",
       "    <tr>\n",
       "      <th>9997</th>\n",
       "      <td>13.2660</td>\n",
       "      <td>-4.659858</td>\n",
       "      <td>13.7860</td>\n",
       "    </tr>\n",
       "    <tr>\n",
       "      <th>9998</th>\n",
       "      <td>9.9696</td>\n",
       "      <td>10.328305</td>\n",
       "      <td>13.7430</td>\n",
       "    </tr>\n",
       "    <tr>\n",
       "      <th>9999</th>\n",
       "      <td>5.7194</td>\n",
       "      <td>2.783274</td>\n",
       "      <td>7.0409</td>\n",
       "    </tr>\n",
       "  </tbody>\n",
       "</table>\n",
       "<p>10000 rows × 3 columns</p>\n",
       "</div>"
      ],
      "text/plain": [
       "      air-blast  stabilization  landing\n",
       "0       -4.3610       5.871623 -11.7190\n",
       "1        1.3172       0.072109 -16.1800\n",
       "2        5.6777       0.514440 -15.0530\n",
       "3        7.8207     -11.094953  -9.6556\n",
       "4        8.7700      -6.434641  -2.8009\n",
       "...         ...            ...      ...\n",
       "9995     3.0466       8.910209   4.1882\n",
       "9996    10.5050       4.565551   8.6056\n",
       "9997    13.2660      -4.659858  13.7860\n",
       "9998     9.9696      10.328305  13.7430\n",
       "9999     5.7194       2.783274   7.0409\n",
       "\n",
       "[10000 rows x 3 columns]"
      ]
     },
     "execution_count": 20,
     "metadata": {},
     "output_type": "execute_result"
    }
   ],
   "source": [
    "datan = pd.read_csv(\"vib_flight_phases.csv\")\n",
    "data = pd.DataFrame(datan)\n",
    "data"
   ]
  },
  {
   "cell_type": "code",
   "execution_count": 21,
   "metadata": {},
   "outputs": [
    {
     "data": {
      "text/html": [
       "<div>\n",
       "<style scoped>\n",
       "    .dataframe tbody tr th:only-of-type {\n",
       "        vertical-align: middle;\n",
       "    }\n",
       "\n",
       "    .dataframe tbody tr th {\n",
       "        vertical-align: top;\n",
       "    }\n",
       "\n",
       "    .dataframe thead th {\n",
       "        text-align: right;\n",
       "    }\n",
       "</style>\n",
       "<table border=\"1\" class=\"dataframe\">\n",
       "  <thead>\n",
       "    <tr style=\"text-align: right;\">\n",
       "      <th></th>\n",
       "      <th>air-blast</th>\n",
       "      <th>stabilization</th>\n",
       "      <th>landing</th>\n",
       "    </tr>\n",
       "  </thead>\n",
       "  <tbody>\n",
       "    <tr>\n",
       "      <th>count</th>\n",
       "      <td>10000.000000</td>\n",
       "      <td>10000.000000</td>\n",
       "      <td>10000.000000</td>\n",
       "    </tr>\n",
       "    <tr>\n",
       "      <th>mean</th>\n",
       "      <td>0.010455</td>\n",
       "      <td>-0.012102</td>\n",
       "      <td>0.007295</td>\n",
       "    </tr>\n",
       "    <tr>\n",
       "      <th>std</th>\n",
       "      <td>7.553019</td>\n",
       "      <td>7.832228</td>\n",
       "      <td>7.825599</td>\n",
       "    </tr>\n",
       "    <tr>\n",
       "      <th>min</th>\n",
       "      <td>-27.948000</td>\n",
       "      <td>-28.937415</td>\n",
       "      <td>-27.762000</td>\n",
       "    </tr>\n",
       "    <tr>\n",
       "      <th>25%</th>\n",
       "      <td>-4.858950</td>\n",
       "      <td>-5.260075</td>\n",
       "      <td>-5.361100</td>\n",
       "    </tr>\n",
       "    <tr>\n",
       "      <th>50%</th>\n",
       "      <td>-0.145710</td>\n",
       "      <td>-0.077647</td>\n",
       "      <td>-0.140750</td>\n",
       "    </tr>\n",
       "    <tr>\n",
       "      <th>75%</th>\n",
       "      <td>5.042825</td>\n",
       "      <td>5.229777</td>\n",
       "      <td>5.354975</td>\n",
       "    </tr>\n",
       "    <tr>\n",
       "      <th>max</th>\n",
       "      <td>29.184000</td>\n",
       "      <td>34.189000</td>\n",
       "      <td>25.828000</td>\n",
       "    </tr>\n",
       "  </tbody>\n",
       "</table>\n",
       "</div>"
      ],
      "text/plain": [
       "          air-blast  stabilization       landing\n",
       "count  10000.000000   10000.000000  10000.000000\n",
       "mean       0.010455      -0.012102      0.007295\n",
       "std        7.553019       7.832228      7.825599\n",
       "min      -27.948000     -28.937415    -27.762000\n",
       "25%       -4.858950      -5.260075     -5.361100\n",
       "50%       -0.145710      -0.077647     -0.140750\n",
       "75%        5.042825       5.229777      5.354975\n",
       "max       29.184000      34.189000     25.828000"
      ]
     },
     "execution_count": 21,
     "metadata": {},
     "output_type": "execute_result"
    }
   ],
   "source": [
    "data.describe()"
   ]
  },
  {
   "cell_type": "markdown",
   "metadata": {},
   "source": [
    "Plot des bails"
   ]
  },
  {
   "cell_type": "code",
   "execution_count": 22,
   "metadata": {},
   "outputs": [
    {
     "data": {
      "image/png": "[encoded data removed]",
      "text/plain": [
       "<Figure size 504x360 with 1 Axes>"
      ]
     },
     "metadata": {
      "needs_background": "light"
     },
     "output_type": "display_data"
    }
   ],
   "source": [
    "plt.figure(figsize=(7,5)) \n",
    "sns.kdeplot(data['air-blast'],shade=True) \n",
    "sns.kdeplot(data['stabilization'],shade=True) \n",
    "plt.show()"
   ]
  },
  {
   "cell_type": "markdown",
   "metadata": {},
   "source": [
    "Diag a moust"
   ]
  },
  {
   "cell_type": "code",
   "execution_count": 23,
   "metadata": {},
   "outputs": [
    {
     "data": {
      "image/png": "[encoded data removed]",
      "text/plain": [
       "<Figure size 432x288 with 1 Axes>"
      ]
     },
     "metadata": {
      "needs_background": "light"
     },
     "output_type": "display_data"
    }
   ],
   "source": [
    "df=pd.DataFrame(data, columns=[\"air-blast\",\"stabilization\"])\n",
    "boxplot = df.boxplot(column=\"stabilization\")"
   ]
  },
  {
   "cell_type": "markdown",
   "metadata": {},
   "source": [
    "Courbe de ref"
   ]
  },
  {
   "cell_type": "code",
   "execution_count": 24,
   "metadata": {},
   "outputs": [
    {
     "data": {
      "image/png": "[encoded data removed]",
      "text/plain": [
       "<Figure size 432x288 with 1 Axes>"
      ]
     },
     "metadata": {
      "needs_background": "light"
     },
     "output_type": "display_data"
    }
   ],
   "source": [
    "qq_plot_acc_x = stats.probplot(data['stabilization'], dist='norm',plot=pylab)"
   ]
  },
  {
   "cell_type": "markdown",
   "metadata": {},
   "source": [
    "test normalite, OK si p>0.5"
   ]
  },
  {
   "cell_type": "code",
   "execution_count": 26,
   "metadata": {},
   "outputs": [
    {
     "name": "stdout",
     "output_type": "stream",
     "text": [
      "ShapiroResult(statistic=0.9996285438537598, pvalue=0.4933258295059204) ShapiroResult(statistic=0.9997165203094482, pvalue=0.755645215511322)\n"
     ]
    }
   ],
   "source": [
    "normality1 = stats.shapiro(data.loc['0':'4999','stabilization'])\n",
    "normality2 = stats.shapiro(data.loc['5000':'9999','stabilization'])\n",
    "print(normality1, normality2)"
   ]
  },
  {
   "cell_type": "markdown",
   "metadata": {},
   "source": [
    "test homogeneite OK si p>0.5"
   ]
  },
  {
   "cell_type": "code",
   "execution_count": 27,
   "metadata": {},
   "outputs": [
    {
     "data": {
      "text/plain": [
       "LeveneResult(statistic=28.13385218982659, pvalue=1.1562701052064659e-07)"
      ]
     },
     "execution_count": 27,
     "metadata": {},
     "output_type": "execute_result"
    }
   ],
   "source": [
    "homogeneity = stats.levene(data.loc['0':'4999','air-blast'], data.loc['5000':'9999','stabilization']) \n",
    "homogeneity"
   ]
  },
  {
   "cell_type": "markdown",
   "metadata": {},
   "source": [
    "suppose normal et homogène, et indep, donc ttest si p>0.5 alors indep"
   ]
  },
  {
   "cell_type": "code",
   "execution_count": 28,
   "metadata": {},
   "outputs": [
    {
     "data": {
      "text/plain": [
       "Ttest_indResult(statistic=0.7802305978333521, pvalue=0.4352736258019335)"
      ]
     },
     "execution_count": 28,
     "metadata": {},
     "output_type": "execute_result"
    }
   ],
   "source": [
    "#T-Test Indépendant\n",
    "stats.ttest_ind(data.loc['0':'4999','air-blast'],data.loc['5000':'9999','stabilization'])"
   ]
  },
  {
   "cell_type": "markdown",
   "metadata": {},
   "source": [
    "correlation stat"
   ]
  },
  {
   "cell_type": "code",
   "execution_count": 29,
   "metadata": {},
   "outputs": [
    {
     "data": {
      "text/html": [
       "<div>\n",
       "<style scoped>\n",
       "    .dataframe tbody tr th:only-of-type {\n",
       "        vertical-align: middle;\n",
       "    }\n",
       "\n",
       "    .dataframe tbody tr th {\n",
       "        vertical-align: top;\n",
       "    }\n",
       "\n",
       "    .dataframe thead th {\n",
       "        text-align: right;\n",
       "    }\n",
       "</style>\n",
       "<table border=\"1\" class=\"dataframe\">\n",
       "  <thead>\n",
       "    <tr style=\"text-align: right;\">\n",
       "      <th></th>\n",
       "      <th>air-blast</th>\n",
       "      <th>stabilization</th>\n",
       "      <th>landing</th>\n",
       "    </tr>\n",
       "  </thead>\n",
       "  <tbody>\n",
       "    <tr>\n",
       "      <th>air-blast</th>\n",
       "      <td>1.000000</td>\n",
       "      <td>0.009585</td>\n",
       "      <td>-0.000610</td>\n",
       "    </tr>\n",
       "    <tr>\n",
       "      <th>stabilization</th>\n",
       "      <td>0.009585</td>\n",
       "      <td>1.000000</td>\n",
       "      <td>0.000187</td>\n",
       "    </tr>\n",
       "    <tr>\n",
       "      <th>landing</th>\n",
       "      <td>-0.000610</td>\n",
       "      <td>0.000187</td>\n",
       "      <td>1.000000</td>\n",
       "    </tr>\n",
       "  </tbody>\n",
       "</table>\n",
       "</div>"
      ],
      "text/plain": [
       "               air-blast  stabilization   landing\n",
       "air-blast       1.000000       0.009585 -0.000610\n",
       "stabilization   0.009585       1.000000  0.000187\n",
       "landing        -0.000610       0.000187  1.000000"
      ]
     },
     "execution_count": 29,
     "metadata": {},
     "output_type": "execute_result"
    }
   ],
   "source": [
    "Corr=data.corr()\n",
    "Corr"
   ]
  },
  {
   "cell_type": "markdown",
   "metadata": {},
   "source": [
    "norm les données"
   ]
  },
  {
   "cell_type": "code",
   "execution_count": 30,
   "metadata": {},
   "outputs": [],
   "source": [
    "# normalisation des données\n",
    "normalisation = pd.DataFrame(StandardScaler().fit_transform(data), columns = data.columns, index = data.index)"
   ]
  },
  {
   "cell_type": "markdown",
   "metadata": {},
   "source": [
    "analyse compo principales"
   ]
  },
  {
   "cell_type": "code",
   "execution_count": 31,
   "metadata": {},
   "outputs": [
    {
     "data": {
      "text/plain": [
       "array([[-0.16781911,  1.43634486,  1.02651462],\n",
       "       [-0.19458464,  2.06670978,  0.00646985],\n",
       "       [-0.63838949,  1.93057684, -0.37005048],\n",
       "       ...,\n",
       "       [-0.76754421, -1.68533653, -1.76166881],\n",
       "       [-1.81028304, -1.80978592, -0.10330673],\n",
       "       [-0.75868336, -0.90491097, -0.33497595]])"
      ]
     },
     "execution_count": 31,
     "metadata": {},
     "output_type": "execute_result"
    }
   ],
   "source": [
    "# on applique l'Analyse en Composantes Principales sur les données\n",
    "pca = PCA()\n",
    "composantes_principales = pca.fit_transform(normalisation)\n",
    "composantes_principales"
   ]
  },
  {
   "cell_type": "markdown",
   "metadata": {},
   "source": [
    "regression lineaire X col Y line\n",
    "regresser Y sur X"
   ]
  },
  {
   "cell_type": "code",
   "execution_count": 52,
   "metadata": {},
   "outputs": [],
   "source": [
    "data_file = \"CO2_emissions.csv\"\n",
    "datan = pd.read_csv(data_file, index_col=['Car','Model'])\n",
    "data = pd.DataFrame(datan)\n",
    "\n",
    "Y=np.array(data[\"CO2\"])\n",
    "X=np.array(data[\"Weight\"]).reshape((-1,1))\n",
    "\n",
    "model=LinearRegression()\n",
    "RL=model.fit(X,Y)"
   ]
  },
  {
   "cell_type": "markdown",
   "metadata": {},
   "source": [
    "Trouver ordonné a lorigine et pente"
   ]
  },
  {
   "cell_type": "code",
   "execution_count": 53,
   "metadata": {},
   "outputs": [
    {
     "name": "stdout",
     "output_type": "stream",
     "text": [
      "ord a lorigine  [0.01699973] pente  134.12441312138762\n"
     ]
    }
   ],
   "source": [
    "print(\"ord a lorigine \",RL.coef_,\"pente \",RL.intercept_)"
   ]
  },
  {
   "cell_type": "code",
   "execution_count": 54,
   "metadata": {},
   "outputs": [
    {
     "data": {
      "text/plain": [
       "0.30486966019513095"
      ]
     },
     "execution_count": 54,
     "metadata": {},
     "output_type": "execute_result"
    }
   ],
   "source": [
    "RL.score(X,Y) #score"
   ]
  },
  {
   "cell_type": "code",
   "execution_count": 62,
   "metadata": {},
   "outputs": [
    {
     "name": "stdout",
     "output_type": "stream",
     "text": [
      "ord a lorigine  [0.00737506 0.00796549 0.04236426 0.00233445] pente  123.0041893402329 score  0.40316108114798055\n"
     ]
    }
   ],
   "source": [
    "X=pd.DataFrame(data,columns=['Weight','Volume','velocity','power'])\n",
    "modelMulti=LinearRegression()\n",
    "MRL=modelMulti.fit(X,Y)\n",
    "print(\"ord a lorigine \",MRL.coef_,\"pente \",MRL.intercept_, \"score \",MRL.score(X,Y))"
   ]
  }
 ],
 "metadata": {
  "interpreter": {
   "hash": "811d4d75a6a21fbfe4240c7d31e5bf476023c9bfdfd7386071e672855d7cfa16"
  },
  "kernelspec": {
   "display_name": "Python 3.10.4 64-bit",
   "language": "python",
   "name": "python3"
  },
  "language_info": {
   "codemirror_mode": {
    "name": "ipython",
    "version": 3
   },
   "file_extension": ".py",
   "mimetype": "text/x-python",
   "name": "python",
   "nbconvert_exporter": "python",
   "pygments_lexer": "ipython3",
   "version": "3.10.4"
  },
  "orig_nbformat": 4
 },
 "nbformat": 4,
 "nbformat_minor": 2
}
