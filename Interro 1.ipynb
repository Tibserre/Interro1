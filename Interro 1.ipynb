{
 "cells": [
  {
   "cell_type": "code",
   "execution_count": 2,
   "metadata": {},
   "outputs": [
    {
     "name": "stderr",
     "output_type": "stream",
     "text": [
      "c:\\Users\\tibse\\AppData\\Local\\Programs\\Python\\Python310\\lib\\site-packages\\outdated\\utils.py:14: OutdatedPackageWarning: The package pingouin is out of date. Your version is 0.3.7, the latest is 0.5.1.\n",
      "Set the environment variable OUTDATED_IGNORE=1 to disable these warnings.\n",
      "  return warn(\n"
     ]
    }
   ],
   "source": [
    "import numpy as np\n",
    "import pandas as pd\n",
    "import matplotlib.pyplot as plt\n",
    "import seaborn as sns\n",
    "import pingouin as pg\n"
   ]
  },
  {
   "cell_type": "markdown",
   "metadata": {},
   "source": [
    "Question 1\n",
    "Import du fichier `vib_aircraft_1b.csv`"
   ]
  },
  {
   "cell_type": "code",
   "execution_count": 3,
   "metadata": {},
   "outputs": [
    {
     "data": {
      "text/html": [
       "<div>\n",
       "<style scoped>\n",
       "    .dataframe tbody tr th:only-of-type {\n",
       "        vertical-align: middle;\n",
       "    }\n",
       "\n",
       "    .dataframe tbody tr th {\n",
       "        vertical-align: top;\n",
       "    }\n",
       "\n",
       "    .dataframe thead th {\n",
       "        text-align: right;\n",
       "    }\n",
       "</style>\n",
       "<table border=\"1\" class=\"dataframe\">\n",
       "  <thead>\n",
       "    <tr style=\"text-align: right;\">\n",
       "      <th></th>\n",
       "      <th>acc_x</th>\n",
       "      <th>acc_y</th>\n",
       "    </tr>\n",
       "  </thead>\n",
       "  <tbody>\n",
       "    <tr>\n",
       "      <th>0</th>\n",
       "      <td>6.0007</td>\n",
       "      <td>-11.7190</td>\n",
       "    </tr>\n",
       "    <tr>\n",
       "      <th>1</th>\n",
       "      <td>6.0011</td>\n",
       "      <td>-16.1800</td>\n",
       "    </tr>\n",
       "    <tr>\n",
       "      <th>2</th>\n",
       "      <td>6.0015</td>\n",
       "      <td>-15.0530</td>\n",
       "    </tr>\n",
       "    <tr>\n",
       "      <th>3</th>\n",
       "      <td>6.0019</td>\n",
       "      <td>-9.6556</td>\n",
       "    </tr>\n",
       "    <tr>\n",
       "      <th>4</th>\n",
       "      <td>6.0023</td>\n",
       "      <td>-2.8009</td>\n",
       "    </tr>\n",
       "    <tr>\n",
       "      <th>...</th>\n",
       "      <td>...</td>\n",
       "      <td>...</td>\n",
       "    </tr>\n",
       "    <tr>\n",
       "      <th>9995</th>\n",
       "      <td>9.9984</td>\n",
       "      <td>4.1882</td>\n",
       "    </tr>\n",
       "    <tr>\n",
       "      <th>9996</th>\n",
       "      <td>9.9988</td>\n",
       "      <td>8.6056</td>\n",
       "    </tr>\n",
       "    <tr>\n",
       "      <th>9997</th>\n",
       "      <td>9.9992</td>\n",
       "      <td>13.7860</td>\n",
       "    </tr>\n",
       "    <tr>\n",
       "      <th>9998</th>\n",
       "      <td>9.9996</td>\n",
       "      <td>13.7430</td>\n",
       "    </tr>\n",
       "    <tr>\n",
       "      <th>9999</th>\n",
       "      <td>10.0000</td>\n",
       "      <td>7.0409</td>\n",
       "    </tr>\n",
       "  </tbody>\n",
       "</table>\n",
       "<p>10000 rows × 2 columns</p>\n",
       "</div>"
      ],
      "text/plain": [
       "        acc_x    acc_y\n",
       "0      6.0007 -11.7190\n",
       "1      6.0011 -16.1800\n",
       "2      6.0015 -15.0530\n",
       "3      6.0019  -9.6556\n",
       "4      6.0023  -2.8009\n",
       "...       ...      ...\n",
       "9995   9.9984   4.1882\n",
       "9996   9.9988   8.6056\n",
       "9997   9.9992  13.7860\n",
       "9998   9.9996  13.7430\n",
       "9999  10.0000   7.0409\n",
       "\n",
       "[10000 rows x 2 columns]"
      ]
     },
     "execution_count": 3,
     "metadata": {},
     "output_type": "execute_result"
    }
   ],
   "source": [
    "dframe = pd.read_csv(\"vib_aircraft_1b.csv\")\n",
    "data = pd.DataFrame(dframe)\n",
    "data"
   ]
  },
  {
   "cell_type": "markdown",
   "metadata": {},
   "source": [
    "Question 2"
   ]
  },
  {
   "cell_type": "code",
   "execution_count": 83,
   "metadata": {},
   "outputs": [],
   "source": [
    "dframeX=dframe[\"acc_x\"]\n",
    "dframeY=dframe[\"acc_y\"]\n",
    "\n"
   ]
  },
  {
   "cell_type": "code",
   "execution_count": 84,
   "metadata": {},
   "outputs": [
    {
     "data": {
      "text/plain": [
       "count    10000.000000\n",
       "mean         8.000382\n",
       "std          1.154675\n",
       "min          6.000700\n",
       "25%          7.000600\n",
       "50%          8.000400\n",
       "75%          9.000200\n",
       "max         10.000000\n",
       "Name: acc_x, dtype: float64"
      ]
     },
     "execution_count": 84,
     "metadata": {},
     "output_type": "execute_result"
    }
   ],
   "source": [
    "dframeX.describe()"
   ]
  },
  {
   "cell_type": "code",
   "execution_count": 85,
   "metadata": {},
   "outputs": [
    {
     "data": {
      "text/plain": [
       "count    10000.000000\n",
       "mean         0.007295\n",
       "std          7.825599\n",
       "min        -27.762000\n",
       "25%         -5.361100\n",
       "50%         -0.140750\n",
       "75%          5.354975\n",
       "max         25.828000\n",
       "Name: acc_y, dtype: float64"
      ]
     },
     "execution_count": 85,
     "metadata": {},
     "output_type": "execute_result"
    }
   ],
   "source": [
    "dframeY.describe()"
   ]
  },
  {
   "cell_type": "markdown",
   "metadata": {},
   "source": [
    "Question3"
   ]
  },
  {
   "cell_type": "code",
   "execution_count": 86,
   "metadata": {},
   "outputs": [
    {
     "data": {
      "text/plain": [
       "<seaborn.axisgrid.FacetGrid at 0x27597760fa0>"
      ]
     },
     "execution_count": 86,
     "metadata": {},
     "output_type": "execute_result"
    },
    {
     "data": {
      "image/png": "[encoded data removed]",
      "text/plain": [
       "<Figure size 424x360 with 1 Axes>"
      ]
     },
     "metadata": {
      "needs_background": "light"
     },
     "output_type": "display_data"
    }
   ],
   "source": [
    "sns.displot(dframe)\n"
   ]
  },
  {
   "cell_type": "code",
   "execution_count": 87,
   "metadata": {},
   "outputs": [
    {
     "data": {
      "text/plain": [
       "<seaborn.axisgrid.FacetGrid at 0x2759784b580>"
      ]
     },
     "execution_count": 87,
     "metadata": {},
     "output_type": "execute_result"
    },
    {
     "data": {
      "image/png": "[encoded data removed]",
      "text/plain": [
       "<Figure size 360x360 with 1 Axes>"
      ]
     },
     "metadata": {
      "needs_background": "light"
     },
     "output_type": "display_data"
    }
   ],
   "source": [
    "sns.displot(dframeY)"
   ]
  },
  {
   "cell_type": "markdown",
   "metadata": {},
   "source": [
    "B. Q1"
   ]
  },
  {
   "cell_type": "code",
   "execution_count": 88,
   "metadata": {},
   "outputs": [
    {
     "name": "stdout",
     "output_type": "stream",
     "text": [
      "      air-blast  stabilization  landing\n",
      "0       -4.3610       5.871623 -11.7190\n",
      "1        1.3172       0.072109 -16.1800\n",
      "2        5.6777       0.514440 -15.0530\n",
      "3        7.8207     -11.094953  -9.6556\n",
      "4        8.7700      -6.434641  -2.8009\n",
      "...         ...            ...      ...\n",
      "9995     3.0466       8.910209   4.1882\n",
      "9996    10.5050       4.565551   8.6056\n",
      "9997    13.2660      -4.659858  13.7860\n",
      "9998     9.9696      10.328305  13.7430\n",
      "9999     5.7194       2.783274   7.0409\n",
      "\n",
      "[10000 rows x 3 columns]\n"
     ]
    }
   ],
   "source": [
    "dframeFlPh = pd.read_csv(\"vib_flight_phases.csv\")\n",
    "print(dframeFlPh)"
   ]
  },
  {
   "cell_type": "markdown",
   "metadata": {},
   "source": [
    "Q2"
   ]
  },
  {
   "cell_type": "code",
   "execution_count": 89,
   "metadata": {},
   "outputs": [],
   "source": [
    "dframeFlPhDecc=dframeFlPh.head(300)\n",
    "dframeFlPhAtt=dframeFlPh.tail(300)\n"
   ]
  },
  {
   "cell_type": "code",
   "execution_count": 90,
   "metadata": {},
   "outputs": [
    {
     "name": "stdout",
     "output_type": "stream",
     "text": [
      "count    300.000000\n",
      "mean       0.215392\n",
      "std        5.974993\n",
      "min      -15.877000\n",
      "25%       -4.395550\n",
      "50%        0.008341\n",
      "75%        4.279350\n",
      "max       17.335000\n",
      "Name: air-blast, dtype: float64 count    300.000000\n",
      "mean      -0.108281\n",
      "std        8.029429\n",
      "min      -20.107868\n",
      "25%       -6.292716\n",
      "50%       -0.077714\n",
      "75%        5.706844\n",
      "max       20.632926\n",
      "Name: stabilization, dtype: float64 count    300.000000\n",
      "mean      -0.250961\n",
      "std        8.677625\n",
      "min      -22.401000\n",
      "25%       -6.263700\n",
      "50%       -0.540105\n",
      "75%        5.092075\n",
      "max       23.817000\n",
      "Name: landing, dtype: float64\n"
     ]
    },
    {
     "data": {
      "image/png": "[encoded data removed]",
      "text/plain": [
       "<Figure size 456.5x360 with 1 Axes>"
      ]
     },
     "metadata": {
      "needs_background": "light"
     },
     "output_type": "display_data"
    }
   ],
   "source": [
    "sns.displot(dframeFlPhDecc)\n",
    "print(dframeFlPhDecc[\"air-blast\"].describe(), dframeFlPhDecc[\"stabilization\"].describe(), dframeFlPhDecc[\"landing\"].describe())"
   ]
  },
  {
   "cell_type": "code",
   "execution_count": 91,
   "metadata": {},
   "outputs": [
    {
     "name": "stdout",
     "output_type": "stream",
     "text": [
      "count    300.000000\n",
      "mean       0.052243\n",
      "std        7.902019\n",
      "min      -26.772000\n",
      "25%       -3.886875\n",
      "50%        0.402320\n",
      "75%        5.214325\n",
      "max       25.113000\n",
      "Name: air-blast, dtype: float64 count    300.000000\n",
      "mean       0.731784\n",
      "std        7.961385\n",
      "min      -21.226319\n",
      "25%       -5.308709\n",
      "50%        1.727939\n",
      "75%        6.292349\n",
      "max       22.916988\n",
      "Name: stabilization, dtype: float64 count    300.000000\n",
      "mean       0.224814\n",
      "std        7.504896\n",
      "min      -18.949000\n",
      "25%       -4.985450\n",
      "50%        0.217825\n",
      "75%        5.573575\n",
      "max       20.694000\n",
      "Name: landing, dtype: float64\n"
     ]
    },
    {
     "data": {
      "image/png": "[encoded data removed]",
      "text/plain": [
       "<Figure size 456.5x360 with 1 Axes>"
      ]
     },
     "metadata": {
      "needs_background": "light"
     },
     "output_type": "display_data"
    }
   ],
   "source": [
    "sns.displot(dframeFlPhAtt)\n",
    "print(dframeFlPhAtt[\"air-blast\"].describe(), dframeFlPhAtt[\"stabilization\"].describe(), dframeFlPhAtt[\"landing\"].describe())"
   ]
  },
  {
   "cell_type": "code",
   "execution_count": 96,
   "metadata": {},
   "outputs": [
    {
     "ename": "AssertionError",
     "evalue": "",
     "output_type": "error",
     "traceback": [
      "\u001b[1;31m---------------------------------------------------------------------------\u001b[0m",
      "\u001b[1;31mAssertionError\u001b[0m                            Traceback (most recent call last)",
      "\u001b[1;32md:\\Nouveau dossier\\Thibault_Serre\\EPF_Cours\\4A\\Stats\\Interro1\\Interro 1.ipynb Cell 17'\u001b[0m in \u001b[0;36m<cell line: 1>\u001b[1;34m()\u001b[0m\n\u001b[1;32m----> <a href='vscode-notebook-cell:/d%3A/Nouveau%20dossier/Thibault_Serre/EPF_Cours/4A/Stats/Interro1/Interro%201.ipynb#ch0000018?line=0'>1</a>\u001b[0m pg\u001b[39m.\u001b[39;49mhomoscedasticity(dframe, dv\u001b[39m=\u001b[39;49m\u001b[39m'\u001b[39;49m\u001b[39mnone\u001b[39;49m\u001b[39m'\u001b[39;49m, \n\u001b[0;32m      <a href='vscode-notebook-cell:/d%3A/Nouveau%20dossier/Thibault_Serre/EPF_Cours/4A/Stats/Interro1/Interro%201.ipynb#ch0000018?line=1'>2</a>\u001b[0m                     group\u001b[39m=\u001b[39;49m\u001b[39m'\u001b[39;49m\u001b[39mnone\u001b[39;49m\u001b[39m'\u001b[39;49m,\n\u001b[0;32m      <a href='vscode-notebook-cell:/d%3A/Nouveau%20dossier/Thibault_Serre/EPF_Cours/4A/Stats/Interro1/Interro%201.ipynb#ch0000018?line=2'>3</a>\u001b[0m                    method\u001b[39m=\u001b[39;49m\u001b[39m'\u001b[39;49m\u001b[39mbartlett\u001b[39;49m\u001b[39m'\u001b[39;49m)\n",
      "File \u001b[1;32mc:\\Users\\tibse\\AppData\\Local\\Programs\\Python\\Python310\\lib\\site-packages\\pingouin\\distribution.py:348\u001b[0m, in \u001b[0;36mhomoscedasticity\u001b[1;34m(data, dv, group, method, alpha)\u001b[0m\n\u001b[0;32m    <a href='file:///c%3A/Users/tibse/AppData/Local/Programs/Python/Python310/lib/site-packages/pingouin/distribution.py?line=344'>345</a>\u001b[0m     statistic, p \u001b[39m=\u001b[39m func(\u001b[39m*\u001b[39mnumdata\u001b[39m.\u001b[39mto_numpy())\n\u001b[0;32m    <a href='file:///c%3A/Users/tibse/AppData/Local/Programs/Python/Python310/lib/site-packages/pingouin/distribution.py?line=345'>346</a>\u001b[0m \u001b[39melse\u001b[39;00m:\n\u001b[0;32m    <a href='file:///c%3A/Users/tibse/AppData/Local/Programs/Python/Python310/lib/site-packages/pingouin/distribution.py?line=346'>347</a>\u001b[0m     \u001b[39m# Long-format\u001b[39;00m\n\u001b[1;32m--> <a href='file:///c%3A/Users/tibse/AppData/Local/Programs/Python/Python310/lib/site-packages/pingouin/distribution.py?line=347'>348</a>\u001b[0m     \u001b[39massert\u001b[39;00m group \u001b[39min\u001b[39;00m data\u001b[39m.\u001b[39mcolumns\n\u001b[0;32m    <a href='file:///c%3A/Users/tibse/AppData/Local/Programs/Python/Python310/lib/site-packages/pingouin/distribution.py?line=348'>349</a>\u001b[0m     \u001b[39massert\u001b[39;00m dv \u001b[39min\u001b[39;00m data\u001b[39m.\u001b[39mcolumns\n\u001b[0;32m    <a href='file:///c%3A/Users/tibse/AppData/Local/Programs/Python/Python310/lib/site-packages/pingouin/distribution.py?line=349'>350</a>\u001b[0m     grp \u001b[39m=\u001b[39m data\u001b[39m.\u001b[39mgroupby(group)[dv]\n",
      "\u001b[1;31mAssertionError\u001b[0m: "
     ]
    }
   ],
   "source": []
  }
 ],
 "metadata": {
  "interpreter": {
   "hash": "811d4d75a6a21fbfe4240c7d31e5bf476023c9bfdfd7386071e672855d7cfa16"
  },
  "kernelspec": {
   "display_name": "Python 3.10.4 64-bit",
   "language": "python",
   "name": "python3"
  },
  "language_info": {
   "codemirror_mode": {
    "name": "ipython",
    "version": 3
   },
   "file_extension": ".py",
   "mimetype": "text/x-python",
   "name": "python",
   "nbconvert_exporter": "python",
   "pygments_lexer": "ipython3",
   "version": "3.10.4"
  },
  "orig_nbformat": 4
 },
 "nbformat": 4,
 "nbformat_minor": 2
}
